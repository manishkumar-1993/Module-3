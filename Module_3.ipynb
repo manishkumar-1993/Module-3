{
  "nbformat": 4,
  "nbformat_minor": 0,
  "metadata": {
    "colab": {
      "provenance": []
    },
    "kernelspec": {
      "name": "python3",
      "display_name": "Python 3"
    },
    "language_info": {
      "name": "python"
    }
  },
  "cells": [
    {
      "cell_type": "code",
      "execution_count": null,
      "metadata": {
        "id": "ZQKjnjSNOcxX"
      },
      "outputs": [],
      "source": []
    },
    {
      "cell_type": "markdown",
      "source": [
        "# Module 3\n",
        "1. Write a simple program in HTML  that displays the heading \"HTML defines the content and structure of\n",
        "your website” on the web browser?\n",
        "\n"
      ],
      "metadata": {
        "id": "QvYULvpPO3RE"
      }
    },
    {
      "cell_type": "markdown",
      "source": [],
      "metadata": {
        "id": "toMZ_6qgO0Ak"
      }
    },
    {
      "cell_type": "code",
      "source": [
        "<!DOCTYPE html>\n",
        "<html lang=\"en\">\n",
        "<head>\n",
        "    <meta charset=\"UTF-8\">\n",
        "    <meta name=\"viewport\" content=\"width=device-width, initial-scale=1.0\">\n",
        "    <title>Heading</title>\n",
        "</head>\n",
        "<body>\n",
        "    <h1>Heading 1</h1>\n",
        "    <h2>Heading 2</h2>\n",
        "    <h3>Heading 3</h3>\n",
        "    <h4>Heading 4</h4>\n",
        "    <h5>Heading 5</h5>\n",
        "    <h6>Heading 6</h6>\n",
        "</body>\n",
        "</html>"
      ],
      "metadata": {
        "id": "y-24LF25y8a4"
      },
      "execution_count": null,
      "outputs": []
    },
    {
      "cell_type": "markdown",
      "source": [
        "2. Explain the purpose of comments in HTML and provide an example of how to use comments in an HTML\n",
        "document?\n",
        "\n",
        "Ans :- In HTML the comment is very Importent with the help of comment we can define the line of code . it is impordent for the documentation of code when we comment in the code the another programer is easy to under stand ."
      ],
      "metadata": {
        "id": "bqanm4bOPite"
      }
    },
    {
      "cell_type": "code",
      "source": [
        "<!DOCTYPE html>\n",
        "<html lang=\"en\">\n",
        "<head>\n",
        "    <meta charset=\"UTF-8\">\n",
        "    <meta name=\"viewport\" content=\"width=device-width, initial-scale=1.0\">\n",
        "    <title>Comment</title>\n",
        "</head>\n",
        "<body>\n",
        "    <!-- it is a heading  -->\n",
        "    <h1>Comment</h1>\n",
        "    <!-- paragraph tag  -->\n",
        "    <p>this is Paragraph Tag</p>\n",
        "</body>\n",
        "</html>"
      ],
      "metadata": {
        "id": "K77OhayhS4FC"
      },
      "execution_count": null,
      "outputs": []
    },
    {
      "cell_type": "markdown",
      "source": [
        "3. Write an HTML program that includes a heading, a paragraph of text, a horizontal line, and a line break.\n",
        "Arrange these elements to create a simple web page layout?\n",
        "\n",
        "Ans:-"
      ],
      "metadata": {
        "id": "Cj9tf_oBS703"
      }
    },
    {
      "cell_type": "code",
      "source": [
        "<!DOCTYPE html>\n",
        "<html lang=\"en\">\n",
        "<head>\n",
        "    <meta charset=\"UTF-8\">\n",
        "    <meta name=\"viewport\" content=\"width=device-width, initial-scale=1.0\">\n",
        "    <title>Website</title>\n",
        "</head>\n",
        "<body>\n",
        "    <!-- Heading Example -->\n",
        "    <h1>Heading</h1>\n",
        "    <!-- this is line brake tag -->\n",
        "<br>\n",
        "<!-- Paragraph Example  -->\n",
        " <p>I am Paragraph Lorem ipsum dolor sit amet, consectetur adipisicing elit. Et tempora assumenda quod, eaque consequuntur in ducimus facere exercitationem itaque accusamus.</p>\n",
        "<br>\n",
        "<!-- horizontal line\n",
        " It is self closing tag that create Horizontal line-->\n",
        " <hr>\n",
        "</body>\n",
        "</html>"
      ],
      "metadata": {
        "id": "KDnRvJukHFHn"
      },
      "execution_count": null,
      "outputs": []
    },
    {
      "cell_type": "markdown",
      "source": [
        "4.  Write a short note on Tag and element with an example ?\n",
        "\n",
        "Ans:-\n",
        "Tag :- Tags are mostly used in pairs. for example Heading Tag , Paragraph Tag but some of tages are not have a closing tag like line brake tag , img tag , Horizontal line tag . the Html tag are create the Block of HTML page tags represent the root of Html . it is the container of HTML Elenents. ( Except of <!DOCTYPE> tag )\n",
        "\n",
        "Elements:- Elements are the component that are used Html page . the structure is starting tag contant and ending tag\n",
        "\n"
      ],
      "metadata": {
        "id": "QZLZNNcjHIKk"
      }
    },
    {
      "cell_type": "code",
      "source": [
        "Elements :- <h1> Structur of element </h1>"
      ],
      "metadata": {
        "id": "lV1orDoPTaat"
      },
      "execution_count": null,
      "outputs": []
    },
    {
      "cell_type": "markdown",
      "source": [
        "5. What is the DOCTYPE Declaration in HTML?\n",
        "\n",
        "Ans:- The DOCTYPE in HTML\n",
        "All the HTML Document start with the DOCTYPE\n",
        "it gives information to the Browser about Document Type\n",
        "it is not a case sensitive"
      ],
      "metadata": {
        "id": "r_a6o0nvT46Y"
      }
    }
  ]
}